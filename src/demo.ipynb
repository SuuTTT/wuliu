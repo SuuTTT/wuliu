{
 "cells": [
  {
   "attachments": {},
   "cell_type": "markdown",
   "metadata": {},
   "source": [
    "# plan\n",
    "\n",
    "refactor the current \n",
    "\n",
    "## custom instruction\n",
    "what to know: \n",
    "\n",
    "- **Problem Context**: The project's goal is to develop a product allocation algorithm. specifically, allocating one type of product from multiple warehouses to multiple orders.  The input to this algorithm consists of the transport time matrix X between warehouses and orders (per unit), an array Y specifying the demand of each order, and an array Z detailing the current stock of the product in each warehouse. The output should be a matrix A indicating the volume of product transported from each warehouse to each order, and the minimize the maximum transportation time, i.e. elements in  Hadamard product fo A and X.\n",
    "\n",
    "- **Known Constraints**: Sum of allocations for each order≥Demand, Sum of allocations for each warehouse≤Inventory; the objective is to minimize the maximum transportation time across all warehouse-order allocation pairs.\n",
    "- **Technical Environment**: operate within a modified Jupyter Notebook environment.Python Version: 3.8\n",
    "- - **Prior Attempts or Solutions**: i've already implement the algorithm using genetic algorithm which i will provide the code for it in the direct prompt below.\n",
    "\n",
    "how to response\n",
    "the main goal is to transfer the current project into a ipynb demo, making it easy for my teacher understand my algorithm.\n",
    "specifically,\n",
    "\n",
    "if i just provide the function code, please add some explanation comment to help other understand the code easily. after that please give the markdown block that best fit to put above the code block before.\n",
    "\n",
    "if i ask for adaption or improvement , please  give some advice on how could i improve the code. than give the updated code , denote where you change the code.\n",
    "\n",
    "note that don't print redundence or niceties.\n"
   ]
  },
  {
   "attachments": {},
   "cell_type": "markdown",
   "metadata": {},
   "source": [
    "### Function: json_to_matrices\n",
    "\n",
    "**Objective**: \n",
    "\n",
    "Converts JSON data related to warehouses and orders into numpy matrices. These matrices represent transport times, demand, and inventory levels for multiple goods across multiple orders and warehouses. Additionally, priorities for both orders and warehouses are computed.\n",
    "\n",
    "**Input**: \n",
    "\n",
    "- `json_data`: The JSON data containing information about the orders (`spdd`), warehouse stocks (`ck`), and other associated data.\n",
    "\n",
    "**Output**: \n",
    "\n",
    "- `A1`: A 3D numpy array representing the time needed to deliver a good from each warehouse to each order.\n",
    "- `A2`: A 2D numpy array representing the demand of each order for each good.\n",
    "- `A3`: A 2D numpy array representing the current stock of each good in each warehouse.\n",
    "- `W1`: A 1D numpy array representing the priority of each order.\n",
    "- `W2`: A 1D numpy array representing the priority of each warehouse.\n",
    "- `order_list`: A list of all orders.\n",
    "- `warehouse_list`: A list of all warehouses.\n",
    "- `goods_list`: A list of all unique goods.\n",
    "- `goods_dict`: A dictionary mapping goods to their unit size.\n",
    "\n",
    "**Implementation Details**:\n",
    "\n",
    "- The number of orders `m` is determined based on the length of `spdd`.\n",
    "- Unique goods and warehouses are identified and their indices mapped.\n",
    "- Matrices `A1`, `A2`, `A3` are initialized as zeros and then populated based on the JSON data.\n",
    "- The priority arrays `W1` and `W2` are computed based on fixed intervals, instead of inverse proportionality.\n",
    "\n",
    "\n",
    "Changes Made:\n",
    "- Populated goods_dict before extracting its keys.\n",
    "- Used sets to create unique all_warehouses and all_goods for faster execution.\n",
    "- Removed redundant list extractions.\n",
    "- Used dictionary look-up for good_id to speed up the loops."
   ]
  },
  {
   "cell_type": "code",
   "execution_count": 1,
   "metadata": {},
   "outputs": [
    {
     "name": "stdout",
     "output_type": "stream",
     "text": [
      "[{'ddnm': 'Order1', 'qynm': 'Company1', 'spnm': 'Good1', 'sl': 7, 'lg': '枚', 'ckdata': [{'cknm': 'cknm1', 'dwyssj': 3.0}, {'cknm': 'cknm2', 'dwyssj': 4.0}]}, {'ddnm': 'Order2', 'qynm': 'Company1', 'spnm': 'Good1', 'sl': 4, 'lg': '枚', 'ckdata': [{'cknm': 'cknm1', 'dwyssj': 2.0}, {'cknm': 'cknm2', 'dwyssj': 1.0}]}, {'ddnm': 'Order3', 'qynm': 'Company1', 'spnm': 'Good1', 'sl': 3, 'lg': '枚', 'ckdata': [{'cknm': 'cknm1', 'dwyssj': 1.0}, {'cknm': 'cknm2', 'dwyssj': 3.0}]}]\n",
      "['cknm1', 'cknm2']\n",
      "['Good1']\n",
      "{'Good1': '枚'}\n"
     ]
    }
   ],
   "source": [
    "import numpy as np\n",
    "import json\n",
    "\n",
    "def json_to_matrices(json_data):\n",
    "    m = len(json_data['spdd'])\n",
    "    goods_dict = {}\n",
    "    \n",
    "    # Extract unique warehouses and populate goods_dict (Updated Code)\n",
    "    all_warehouses = list({data['cknm'] for order in json_data['spdd'] for data in order['ckdata']})\n",
    "    \n",
    "    for warehouse in json_data['ck']:  # Populate goods_dict (New Code)\n",
    "        warehouse_id = list(warehouse.keys())[0]\n",
    "        for good in warehouse[warehouse_id]:\n",
    "            goods_dict[good['spnm']] = good['lg']\n",
    "    \n",
    "    all_goods_spdd = {order['spnm'] for order in json_data['spdd']}\n",
    "    all_goods = sorted(list(all_goods_spdd.union(goods_dict.keys())))  # Updated Code\n",
    "    \n",
    "    k = len(all_goods)\n",
    "    n = len(all_warehouses)\n",
    "    \n",
    "    # Initialize matrices (Original Code)\n",
    "    A1 = np.zeros((m, n, k))\n",
    "    A2 = np.zeros((m, k))\n",
    "    A3 = np.zeros((n, k))\n",
    "    W1 = np.arange(m, 0, -1) / m * 0.3 + 0.7\n",
    "    W2 = np.arange(n, 0, -1) / n * 0.3 + 0.7\n",
    "    \n",
    "    # Use dictionary for faster good_id look-up (New Code)\n",
    "    good_id_dict = {good: idx for idx, good in enumerate(all_goods)}\n",
    "    \n",
    "    # Populate matrices with optimized loops (Updated Code)\n",
    "    for i, order in enumerate(json_data['spdd']):\n",
    "        good_id = good_id_dict[order['spnm']]\n",
    "        A2[i, good_id] = order['sl']\n",
    "        for j, ckdata in enumerate(order['ckdata']):\n",
    "            A1[i, j, good_id] = ckdata['dwyssj']\n",
    "    \n",
    "    for warehouse in json_data['ck']:\n",
    "        warehouse_id = list(warehouse.keys())[0]\n",
    "        i = all_warehouses.index(warehouse_id)\n",
    "        for good in warehouse[warehouse_id]:\n",
    "            good_id = good_id_dict[good['spnm']]  # Updated Code\n",
    "            A3[i, good_id] = good['sl']\n",
    "    \n",
    "    return A1, A2, A3, W1, W2, json_data['spdd'], all_warehouses, all_goods, goods_dict  # Updated Code\n",
    "\n",
    "with open('data/data_5.txt', 'r') as f:\n",
    "    json_data = json.load(f)\n",
    "    A1, A2, A3, W1, W2, order_list, warehouse_list, goods_list, goods_dict = json_to_matrices(json_data)\n",
    "    print(order_list)\n",
    "    print(warehouse_list)\n",
    "    print(goods_list)\n",
    "    print(goods_dict)\n"
   ]
  },
  {
   "cell_type": "code",
   "execution_count": null,
   "metadata": {},
   "outputs": [],
   "source": []
  }
 ],
 "metadata": {
  "kernelspec": {
   "display_name": "wuliu",
   "language": "python",
   "name": "python3"
  },
  "language_info": {
   "codemirror_mode": {
    "name": "ipython",
    "version": 3
   },
   "file_extension": ".py",
   "mimetype": "text/x-python",
   "name": "python",
   "nbconvert_exporter": "python",
   "pygments_lexer": "ipython3",
   "version": "3.8.17"
  },
  "orig_nbformat": 4,
  "vscode": {
   "interpreter": {
    "hash": "4201effde76dc7cdaff4f3250686637ba7a61e86386f9c67f3a240d3cc356cf0"
   }
  }
 },
 "nbformat": 4,
 "nbformat_minor": 2
}
